{
 "metadata": {
  "language_info": {
   "codemirror_mode": {
    "name": "ipython",
    "version": 3
   },
   "file_extension": ".py",
   "mimetype": "text/x-python",
   "name": "python",
   "nbconvert_exporter": "python",
   "pygments_lexer": "ipython3",
   "version": "3.8.5-final"
  },
  "orig_nbformat": 2,
  "kernelspec": {
   "name": "python3",
   "display_name": "Python 3",
   "language": "python"
  }
 },
 "nbformat": 4,
 "nbformat_minor": 2,
 "cells": [
  {
   "cell_type": "code",
   "execution_count": 1,
   "metadata": {},
   "outputs": [],
   "source": [
    "import networkx as nx\n",
    "import tqdm\n",
    "import pickle as pkl\n",
    "import json\n",
    "import powerlaw"
   ]
  },
  {
   "cell_type": "code",
   "execution_count": 2,
   "metadata": {
    "tags": []
   },
   "outputs": [],
   "source": [
    "entries = {}\n",
    "internal_papers = {}\n",
    "\n",
    "#with open(\"merged_internal-citations.json\") as json_file:\n",
    "with open(\"citation_network.json\") as json_file:\n",
    "    entries = json.load(json_file)\n",
    "internal_papers = entries['arxiv_papers']\n",
    "\n"
   ]
  },
  {
   "cell_type": "code",
   "execution_count": 3,
   "metadata": {},
   "outputs": [],
   "source": [
    "del entries"
   ]
  },
  {
   "cell_type": "code",
   "execution_count": 4,
   "metadata": {},
   "outputs": [
    {
     "output_type": "error",
     "ename": "NameError",
     "evalue": "name 'entries' is not defined",
     "traceback": [
      "\u001b[0;31m---------------------------------------------------------------------------\u001b[0m",
      "\u001b[0;31mNameError\u001b[0m                                 Traceback (most recent call last)",
      "\u001b[0;32m<ipython-input-4-ddcdcaa58dc3>\u001b[0m in \u001b[0;36m<module>\u001b[0;34m\u001b[0m\n\u001b[0;32m----> 1\u001b[0;31m \u001b[0mprint\u001b[0m\u001b[0;34m(\u001b[0m\u001b[0;34mf\"#Internal : {len(internal_papers)} + #External: {len(entries['external_papers'])} = {len(internal_papers)+len(entries['external_papers'])}\"\u001b[0m\u001b[0;34m)\u001b[0m\u001b[0;34m\u001b[0m\u001b[0;34m\u001b[0m\u001b[0m\n\u001b[0m\u001b[1;32m      2\u001b[0m \u001b[0;34m\u001b[0m\u001b[0m\n",
      "\u001b[0;31mNameError\u001b[0m: name 'entries' is not defined"
     ]
    }
   ],
   "source": [
    "print(f\"#Internal : {len(internal_papers)} + #External: {len(entries['external_papers'])} = {len(internal_papers)+len(entries['external_papers'])}\")\n",
    "\n"
   ]
  },
  {
   "cell_type": "code",
   "execution_count": 5,
   "metadata": {},
   "outputs": [
    {
     "output_type": "stream",
     "name": "stdout",
     "text": [
      "['astro-ph/0609602', '1106.1746', 'astro-ph/0609501', 'astro-ph/0510237', '1003.5625', '1004.1069', '0805.2133', '0811.0492', 'astro-ph/0501552', 'astro-ph/0210157', '0807.0573', '1501.04226', 'astro-ph/0011497', 'astro-ph/0205417', '0806.3004', '1003.0618', '1011.5768', '0808.4015', '1009.5425', '1008.1727', '0901.1098', 'astro-ph/9812448', '1008.1761', '1101.1698', 'astro-ph/0507718', '1202.4523', 'astro-ph/9809387', 'astro-ph/0601049', 'astro-ph/0602087', 'astro-ph/0210694', '0907.2250', 'astro-ph/0504082', '0908.1239', '0911.5718', 'astro-ph/0503381', '1111.3761', 'astro-ph/0304350', '0807.3971', 'astro-ph/0312113', '0807.1515', '1201.6415', '1003.5876', 'astro-ph/0601518', '0708.1752', 'astro-ph/0101378', '1105.2577', '0803.1484', '1109.3447', '1302.6135', '1111.2487']\n"
     ]
    }
   ],
   "source": [
    "print(internal_papers['1302.6135'][0])"
   ]
  },
  {
   "cell_type": "code",
   "execution_count": 8,
   "metadata": {},
   "outputs": [
    {
     "output_type": "stream",
     "name": "stdout",
     "text": [
      "1302.6135\n1510.04023\n0904.4671\n0912.1308\n1103.4102\n1402.1367\n1604.07202\n1108.4230\n0902.0235\n1502.05819\n"
     ]
    }
   ],
   "source": [
    "intit = iter(internal_papers.keys())\n",
    "for i in range(10):\n",
    "    print(next(intit))"
   ]
  },
  {
   "cell_type": "code",
   "execution_count": 6,
   "metadata": {},
   "outputs": [
    {
     "output_type": "stream",
     "name": "stderr",
     "text": [
      "100%|██████████| 1793794/1793794 [01:36<00:00, 18569.91it/s]\n"
     ]
    }
   ],
   "source": [
    "G = nx.DiGraph()\n",
    "nodelist = internal_papers.keys()\n",
    "for node in tqdm.tqdm(nodelist):\n",
    "    if(not (node in G)):\n",
    "        G.add_node(node)\n",
    "    for reference in internal_papers[node][0]:\n",
    "        G.add_edge(node,reference)  \n",
    "    for reference in internal_papers[node][1]:\n",
    "        G.add_edge(node,reference)  "
   ]
  },
  {
   "cell_type": "code",
   "execution_count": 9,
   "metadata": {},
   "outputs": [],
   "source": [
    "del internal_papers"
   ]
  },
  {
   "cell_type": "code",
   "execution_count": 19,
   "metadata": {},
   "outputs": [
    {
     "output_type": "stream",
     "name": "stderr",
     "text": [
      "100%|██████████| 7363967/7363967 [00:14<00:00, 519590.16it/s]\n"
     ]
    }
   ],
   "source": [
    "indata = []\n",
    "outdata = []\n",
    "for node in tqdm.tqdm(G.nodes()):\n",
    "    indata.append(G.in_degree(node))\n",
    "    outdata.append(G.out_degree(node))\n",
    "#result = powerlaw.Fit(data)"
   ]
  },
  {
   "cell_type": "code",
   "execution_count": 20,
   "metadata": {},
   "outputs": [
    {
     "output_type": "stream",
     "name": "stderr",
     "text": [
      "Values less than or equal to 0 in data. Throwing out 0 or negative values\n",
      "Calculating best minimal value for power law fit\n",
      "Values less than or equal to 0 in data. Throwing out 0 or negative values\n",
      "Calculating best minimal value for power law fit\n"
     ]
    }
   ],
   "source": [
    "inresult = powerlaw.Fit(indata)\n",
    "outresult = powerlaw.Fit(outdata)"
   ]
  },
  {
   "cell_type": "code",
   "execution_count": 21,
   "metadata": {},
   "outputs": [
    {
     "output_type": "stream",
     "name": "stdout",
     "text": [
      "2.708639248721764\n204.0\n3.969735224624406\n75.0\n"
     ]
    }
   ],
   "source": [
    "print(inresult.power_law.alpha)\n",
    "print(inresult.power_law.xmin)\n",
    "print(outresult.power_law.alpha)\n",
    "print(outresult.power_law.xmin)\n"
   ]
  },
  {
   "cell_type": "code",
   "execution_count": 13,
   "metadata": {},
   "outputs": [
    {
     "output_type": "stream",
     "name": "stdout",
     "text": [
      "# Nodes: 7363967\n",
      "# Edges: 48826943\n",
      "# Isolates: 6583\n",
      "# %Isolates: 0.0008939475149739264\n",
      "\n",
      "Average degree k: 13.261043402285752\n",
      "# WCC: 7298539\n",
      "% WCC: 0.9911151149916886\n",
      "('quant-ph/0012089', 6155)\n",
      "37884025\n",
      "('phys', 132236)\n",
      "17486359696\n"
     ]
    }
   ],
   "source": [
    "node_count = len(G.nodes())\n",
    "edge_count = len(G.edges())\n",
    "isolate_count = len(list(nx.isolates(G)))\n",
    "print(f\"# Nodes: {node_count}\")\n",
    "print(f\"# Edges: {edge_count}\")\n",
    "print(f\"# Isolates: {isolate_count}\")\n",
    "print(f\"# %Isolates: {isolate_count / node_count}\")\n",
    "print(\"\")\n",
    "# Avg. degree <k> calculation\n",
    "print(f\"Average degree k: {2* edge_count / node_count}\")\n",
    "# % WCC calculation\n",
    "largest_cc = max(nx.weakly_connected_components(G), key=len)\n",
    "print(f\"# WCC: {len(largest_cc)}\")\n",
    "print(f\"% WCC: {len(largest_cc) / node_count}\")\n",
    "\n",
    "# Highest in-and outdegree nodes for cap on co-cit / bib-coup\n",
    "max_out_deg = max(G.out_degree, key=lambda e: e[1])\n",
    "max_in_deg = max(G.in_degree, key=lambda e: e[1])\n",
    "print(max_out_deg)\n",
    "print(max_out_deg[1]**2)\n",
    "print(max_in_deg)\n",
    "print(max_in_deg[1]**2)\n"
   ]
  },
  {
   "cell_type": "code",
   "execution_count": null,
   "metadata": {},
   "outputs": [],
   "source": []
  },
  {
   "cell_type": "code",
   "execution_count": null,
   "metadata": {},
   "outputs": [],
   "source": [
    "co_citations = set()\n",
    "for node in tqdm.tqdm(G.nodes()):\n",
    "    for ref in G.neighbors(node):\n",
    "        for ref2 in G.neighbors(node):\n",
    "            if ref < ref2:\n",
    "                co_citations.add((ref, ref2))"
   ]
  },
  {
   "cell_type": "code",
   "execution_count": null,
   "metadata": {},
   "outputs": [],
   "source": [
    "print(f\"# Co-citations: {len(co_citations)}\")\n",
    "it = iter(co_citations)\n",
    "for i in range(10):\n",
    "    print(next(it))"
   ]
  },
  {
   "cell_type": "code",
   "execution_count": null,
   "metadata": {},
   "outputs": [],
   "source": [
    "#pkl.dump(co_citations, open(\"co_citations.p\", \"wb\"))\n",
    "#co_citations = pkl.load(open(\"co_citations.p\", \"rb\"))"
   ]
  },
  {
   "cell_type": "code",
   "execution_count": 11,
   "metadata": {},
   "outputs": [
    {
     "output_type": "stream",
     "name": "stderr",
     "text": [
      "100%|██████████| 3346320/3346320 [07:23<00:00, 7541.87it/s]\n"
     ]
    }
   ],
   "source": [
    "sbib_coupling = set()\n",
    "for node in tqdm.tqdm(G.nodes()):\n",
    "    for p in G.predecessors(node):\n",
    "        for p2 in G.predecessors(node):s\n",
    "            if p < p2:\n",
    "                bib_coupling.add((p, p2))\n"
   ]
  },
  {
   "cell_type": "code",
   "execution_count": 6,
   "metadata": {},
   "outputs": [],
   "source": [
    "#pkl.dump(bib_coupling, open(\"bib_coupling.p\", \"wb\"))"
   ]
  },
  {
   "cell_type": "code",
   "execution_count": 12,
   "metadata": {},
   "outputs": [
    {
     "output_type": "stream",
     "name": "stdout",
     "text": [
      "# Bib-couples: 581068567\n(('1912.02689v2', 2698118), ('2007.01650v1', 2986849))\n(('0712.0155v1', 160655), ('1506.04128v2', 291635))\n(('1103.2683v1', 1483416), ('1307.5932v1', 2071974))\n(('1903.12519v2', 2237794), ('2009.12981v2', 3188085))\n(('1910.14162v1', 2253678), ('2007.14454v1', 2794148))\n(('1712.01038v1', 1949875), ('2009.06206v2', 2828881))\n(('1202.5375v4', 1917636), ('hep-th/0403104v3', 2621140))\n(('0905.0589v1', 2070352), ('hep-th/0208182v4', 3339189))\n(('1607.01205v1', 1534037), ('1904.07516v1', 3287488))\n(('1709.08112v1', 632143), ('1806.07438v3', 1813626))\n"
     ]
    }
   ],
   "source": [
    "print(f\"# Bib-couples: {len(bib_coupling)}\")\n",
    "it = iter(bib_coupling)\n",
    "for i in range(10):\n",
    "    print(next(it))"
   ]
  }
 ]
}